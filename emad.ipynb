{
  "nbformat": 4,
  "nbformat_minor": 0,
  "metadata": {
    "colab": {
      "name": "emad.ipynb",
      "provenance": [],
      "authorship_tag": "ABX9TyPFYj0EJYlGKAoNfoOPxSXc",
      "include_colab_link": true
    },
    "kernelspec": {
      "name": "python3",
      "display_name": "Python 3"
    },
    "language_info": {
      "name": "python"
    }
  },
  "cells": [
    {
      "cell_type": "markdown",
      "metadata": {
        "id": "view-in-github",
        "colab_type": "text"
      },
      "source": [
        "<a href=\"https://colab.research.google.com/github/Mohsen-Ahmadi-339/nxmvd/blob/main/emad.ipynb\" target=\"_parent\"><img src=\"https://colab.research.google.com/assets/colab-badge.svg\" alt=\"Open In Colab\"/></a>"
      ]
    },
    {
      "cell_type": "code",
      "execution_count": 1,
      "metadata": {
        "colab": {
          "base_uri": "https://localhost:8080/"
        },
        "id": "X3RteXgjeO2K",
        "outputId": "26a5a4b5-65d4-4420-d893-93e2ca00c1af"
      },
      "outputs": [
        {
          "output_type": "stream",
          "name": "stdout",
          "text": [
            "fdvvfxd\n"
          ]
        }
      ],
      "source": [
        "print(\"fdvvfxd\")"
      ]
    }
  ]
}